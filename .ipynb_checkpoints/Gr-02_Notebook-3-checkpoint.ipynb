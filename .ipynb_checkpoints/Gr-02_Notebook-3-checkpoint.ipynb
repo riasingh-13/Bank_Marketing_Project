{
 "cells": [
  {
   "cell_type": "markdown",
   "id": "553d3d71-5080-4ca8-aa4d-3fe490ca608a",
   "metadata": {},
   "source": [
    "# Step 9: User Interface Development with Streamlit\n",
    "\n",
    "### Objectives:\n",
    "- Set up Streamlit UI for input fields.\n",
    "- Call the FastAPI prediction endpoint (http://127.0.0.1:8000/predict).\n",
    "- Display the prediction result dynamically.\n",
    "- Show appropriate messages based on input."
   ]
  },
  {
   "cell_type": "markdown",
   "id": "ef91b684-7ee8-4f34-a881-73ee54af878b",
   "metadata": {},
   "source": [
    "### 1. Install & Import Required Libraries"
   ]
  },
  {
   "cell_type": "code",
   "execution_count": 14,
   "id": "2d52d1c4-0112-41f2-9920-5b3d5b84f573",
   "metadata": {},
   "outputs": [],
   "source": [
    "#!pip install streamlit requests"
   ]
  },
  {
   "cell_type": "code",
   "execution_count": 15,
   "id": "9066305f-2d0e-4c07-93b6-ee98eac6b5ef",
   "metadata": {},
   "outputs": [],
   "source": [
    "import streamlit as st\n",
    "import requests\n",
    "import json"
   ]
  },
  {
   "cell_type": "markdown",
   "id": "717e99f2-9eb6-473d-a5ce-e205c1faf038",
   "metadata": {},
   "source": [
    "### 2. Define the Streamlit UI Layout"
   ]
  },
  {
   "cell_type": "code",
   "execution_count": 16,
   "id": "18f140c7-0dee-4366-a16a-31d6284691a8",
   "metadata": {},
   "outputs": [
    {
     "name": "stderr",
     "output_type": "stream",
     "text": [
      "2025-03-16 09:39:09.783 Thread 'MainThread': missing ScriptRunContext! This warning can be ignored when running in bare mode.\n",
      "2025-03-16 09:39:09.784 Thread 'MainThread': missing ScriptRunContext! This warning can be ignored when running in bare mode.\n",
      "2025-03-16 09:39:09.785 Thread 'MainThread': missing ScriptRunContext! This warning can be ignored when running in bare mode.\n",
      "2025-03-16 09:39:09.787 Thread 'MainThread': missing ScriptRunContext! This warning can be ignored when running in bare mode.\n",
      "2025-03-16 09:39:09.787 Thread 'MainThread': missing ScriptRunContext! This warning can be ignored when running in bare mode.\n",
      "2025-03-16 09:39:09.789 Thread 'MainThread': missing ScriptRunContext! This warning can be ignored when running in bare mode.\n"
     ]
    }
   ],
   "source": [
    "# Streamlit UI title\n",
    "st.title(\"📊 Bank Marketing Prediction App\")\n",
    "\n",
    "st.write(\"\"\"\n",
    "### 📌 Enter Customer Details to Get a Prediction:\n",
    "Fill in the required details and click **'Predict'** to check if the customer will subscribe to a term deposit.\n",
    "\"\"\")"
   ]
  },
  {
   "cell_type": "markdown",
   "id": "6e715cdd-7df1-4207-a297-82fee9010325",
   "metadata": {},
   "source": [
    "### 3. Create Input Fields for User Data"
   ]
  },
  {
   "cell_type": "code",
   "execution_count": 17,
   "id": "36140041-3b74-4be7-b197-5ff8d8859a3c",
   "metadata": {},
   "outputs": [
    {
     "name": "stderr",
     "output_type": "stream",
     "text": [
      "2025-03-16 09:39:09.804 Thread 'MainThread': missing ScriptRunContext! This warning can be ignored when running in bare mode.\n",
      "2025-03-16 09:39:09.805 Thread 'MainThread': missing ScriptRunContext! This warning can be ignored when running in bare mode.\n",
      "2025-03-16 09:39:09.805 Thread 'MainThread': missing ScriptRunContext! This warning can be ignored when running in bare mode.\n",
      "2025-03-16 09:39:09.806 Thread 'MainThread': missing ScriptRunContext! This warning can be ignored when running in bare mode.\n",
      "2025-03-16 09:39:09.807 Thread 'MainThread': missing ScriptRunContext! This warning can be ignored when running in bare mode.\n",
      "2025-03-16 09:39:09.808 Thread 'MainThread': missing ScriptRunContext! This warning can be ignored when running in bare mode.\n",
      "2025-03-16 09:39:09.810 Thread 'MainThread': missing ScriptRunContext! This warning can be ignored when running in bare mode.\n",
      "2025-03-16 09:39:09.811 Thread 'MainThread': missing ScriptRunContext! This warning can be ignored when running in bare mode.\n",
      "2025-03-16 09:39:09.812 Thread 'MainThread': missing ScriptRunContext! This warning can be ignored when running in bare mode.\n",
      "2025-03-16 09:39:09.813 Thread 'MainThread': missing ScriptRunContext! This warning can be ignored when running in bare mode.\n",
      "2025-03-16 09:39:09.813 Thread 'MainThread': missing ScriptRunContext! This warning can be ignored when running in bare mode.\n",
      "2025-03-16 09:39:09.814 Thread 'MainThread': missing ScriptRunContext! This warning can be ignored when running in bare mode.\n",
      "2025-03-16 09:39:09.815 Thread 'MainThread': missing ScriptRunContext! This warning can be ignored when running in bare mode.\n",
      "2025-03-16 09:39:09.816 Thread 'MainThread': missing ScriptRunContext! This warning can be ignored when running in bare mode.\n",
      "2025-03-16 09:39:09.817 Thread 'MainThread': missing ScriptRunContext! This warning can be ignored when running in bare mode.\n",
      "2025-03-16 09:39:09.817 Thread 'MainThread': missing ScriptRunContext! This warning can be ignored when running in bare mode.\n",
      "2025-03-16 09:39:09.820 Thread 'MainThread': missing ScriptRunContext! This warning can be ignored when running in bare mode.\n",
      "2025-03-16 09:39:09.821 Thread 'MainThread': missing ScriptRunContext! This warning can be ignored when running in bare mode.\n",
      "2025-03-16 09:39:09.823 Thread 'MainThread': missing ScriptRunContext! This warning can be ignored when running in bare mode.\n",
      "2025-03-16 09:39:09.823 Thread 'MainThread': missing ScriptRunContext! This warning can be ignored when running in bare mode.\n",
      "2025-03-16 09:39:09.823 Thread 'MainThread': missing ScriptRunContext! This warning can be ignored when running in bare mode.\n",
      "2025-03-16 09:39:09.827 Thread 'MainThread': missing ScriptRunContext! This warning can be ignored when running in bare mode.\n",
      "2025-03-16 09:39:09.827 Thread 'MainThread': missing ScriptRunContext! This warning can be ignored when running in bare mode.\n",
      "2025-03-16 09:39:09.827 Thread 'MainThread': missing ScriptRunContext! This warning can be ignored when running in bare mode.\n",
      "2025-03-16 09:39:09.827 Thread 'MainThread': missing ScriptRunContext! This warning can be ignored when running in bare mode.\n",
      "2025-03-16 09:39:09.827 Thread 'MainThread': missing ScriptRunContext! This warning can be ignored when running in bare mode.\n",
      "2025-03-16 09:39:09.835 Thread 'MainThread': missing ScriptRunContext! This warning can be ignored when running in bare mode.\n",
      "2025-03-16 09:39:09.838 Thread 'MainThread': missing ScriptRunContext! This warning can be ignored when running in bare mode.\n",
      "2025-03-16 09:39:09.840 Thread 'MainThread': missing ScriptRunContext! This warning can be ignored when running in bare mode.\n",
      "2025-03-16 09:39:09.846 Thread 'MainThread': missing ScriptRunContext! This warning can be ignored when running in bare mode.\n",
      "2025-03-16 09:39:09.848 Thread 'MainThread': missing ScriptRunContext! This warning can be ignored when running in bare mode.\n",
      "2025-03-16 09:39:09.850 Thread 'MainThread': missing ScriptRunContext! This warning can be ignored when running in bare mode.\n",
      "2025-03-16 09:39:09.851 Thread 'MainThread': missing ScriptRunContext! This warning can be ignored when running in bare mode.\n",
      "2025-03-16 09:39:09.853 Thread 'MainThread': missing ScriptRunContext! This warning can be ignored when running in bare mode.\n",
      "2025-03-16 09:39:09.856 Thread 'MainThread': missing ScriptRunContext! This warning can be ignored when running in bare mode.\n",
      "2025-03-16 09:39:09.858 Thread 'MainThread': missing ScriptRunContext! This warning can be ignored when running in bare mode.\n",
      "2025-03-16 09:39:09.859 Thread 'MainThread': missing ScriptRunContext! This warning can be ignored when running in bare mode.\n",
      "2025-03-16 09:39:09.860 Thread 'MainThread': missing ScriptRunContext! This warning can be ignored when running in bare mode.\n",
      "2025-03-16 09:39:09.861 Thread 'MainThread': missing ScriptRunContext! This warning can be ignored when running in bare mode.\n",
      "2025-03-16 09:39:09.862 Thread 'MainThread': missing ScriptRunContext! This warning can be ignored when running in bare mode.\n",
      "2025-03-16 09:39:09.864 Thread 'MainThread': missing ScriptRunContext! This warning can be ignored when running in bare mode.\n",
      "2025-03-16 09:39:09.866 Thread 'MainThread': missing ScriptRunContext! This warning can be ignored when running in bare mode.\n",
      "2025-03-16 09:39:09.868 Thread 'MainThread': missing ScriptRunContext! This warning can be ignored when running in bare mode.\n",
      "2025-03-16 09:39:09.869 Thread 'MainThread': missing ScriptRunContext! This warning can be ignored when running in bare mode.\n",
      "2025-03-16 09:39:09.870 Thread 'MainThread': missing ScriptRunContext! This warning can be ignored when running in bare mode.\n",
      "2025-03-16 09:39:09.871 Thread 'MainThread': missing ScriptRunContext! This warning can be ignored when running in bare mode.\n",
      "2025-03-16 09:39:09.872 Thread 'MainThread': missing ScriptRunContext! This warning can be ignored when running in bare mode.\n",
      "2025-03-16 09:39:09.873 Thread 'MainThread': missing ScriptRunContext! This warning can be ignored when running in bare mode.\n",
      "2025-03-16 09:39:09.876 Thread 'MainThread': missing ScriptRunContext! This warning can be ignored when running in bare mode.\n",
      "2025-03-16 09:39:09.878 Thread 'MainThread': missing ScriptRunContext! This warning can be ignored when running in bare mode.\n",
      "2025-03-16 09:39:09.879 Thread 'MainThread': missing ScriptRunContext! This warning can be ignored when running in bare mode.\n",
      "2025-03-16 09:39:09.880 Thread 'MainThread': missing ScriptRunContext! This warning can be ignored when running in bare mode.\n",
      "2025-03-16 09:39:09.881 Thread 'MainThread': missing ScriptRunContext! This warning can be ignored when running in bare mode.\n",
      "2025-03-16 09:39:09.882 Thread 'MainThread': missing ScriptRunContext! This warning can be ignored when running in bare mode.\n",
      "2025-03-16 09:39:09.886 Thread 'MainThread': missing ScriptRunContext! This warning can be ignored when running in bare mode.\n",
      "2025-03-16 09:39:09.887 Thread 'MainThread': missing ScriptRunContext! This warning can be ignored when running in bare mode.\n",
      "2025-03-16 09:39:09.888 Thread 'MainThread': missing ScriptRunContext! This warning can be ignored when running in bare mode.\n",
      "2025-03-16 09:39:09.889 Thread 'MainThread': missing ScriptRunContext! This warning can be ignored when running in bare mode.\n",
      "2025-03-16 09:39:09.890 Thread 'MainThread': missing ScriptRunContext! This warning can be ignored when running in bare mode.\n",
      "2025-03-16 09:39:09.890 Thread 'MainThread': missing ScriptRunContext! This warning can be ignored when running in bare mode.\n",
      "2025-03-16 09:39:09.890 Thread 'MainThread': missing ScriptRunContext! This warning can be ignored when running in bare mode.\n",
      "2025-03-16 09:39:09.890 Thread 'MainThread': missing ScriptRunContext! This warning can be ignored when running in bare mode.\n",
      "2025-03-16 09:39:09.890 Thread 'MainThread': missing ScriptRunContext! This warning can be ignored when running in bare mode.\n",
      "2025-03-16 09:39:09.890 Thread 'MainThread': missing ScriptRunContext! This warning can be ignored when running in bare mode.\n",
      "2025-03-16 09:39:09.890 Thread 'MainThread': missing ScriptRunContext! This warning can be ignored when running in bare mode.\n",
      "2025-03-16 09:39:09.890 Thread 'MainThread': missing ScriptRunContext! This warning can be ignored when running in bare mode.\n",
      "2025-03-16 09:39:09.890 Thread 'MainThread': missing ScriptRunContext! This warning can be ignored when running in bare mode.\n",
      "2025-03-16 09:39:09.902 Thread 'MainThread': missing ScriptRunContext! This warning can be ignored when running in bare mode.\n",
      "2025-03-16 09:39:09.904 Thread 'MainThread': missing ScriptRunContext! This warning can be ignored when running in bare mode.\n",
      "2025-03-16 09:39:09.904 Thread 'MainThread': missing ScriptRunContext! This warning can be ignored when running in bare mode.\n",
      "2025-03-16 09:39:09.905 Thread 'MainThread': missing ScriptRunContext! This warning can be ignored when running in bare mode.\n",
      "2025-03-16 09:39:09.906 Thread 'MainThread': missing ScriptRunContext! This warning can be ignored when running in bare mode.\n",
      "2025-03-16 09:39:09.907 Thread 'MainThread': missing ScriptRunContext! This warning can be ignored when running in bare mode.\n",
      "2025-03-16 09:39:09.908 Thread 'MainThread': missing ScriptRunContext! This warning can be ignored when running in bare mode.\n",
      "2025-03-16 09:39:09.909 Thread 'MainThread': missing ScriptRunContext! This warning can be ignored when running in bare mode.\n",
      "2025-03-16 09:39:09.910 Thread 'MainThread': missing ScriptRunContext! This warning can be ignored when running in bare mode.\n",
      "2025-03-16 09:39:09.911 Thread 'MainThread': missing ScriptRunContext! This warning can be ignored when running in bare mode.\n",
      "2025-03-16 09:39:09.913 Thread 'MainThread': missing ScriptRunContext! This warning can be ignored when running in bare mode.\n",
      "2025-03-16 09:39:09.914 Thread 'MainThread': missing ScriptRunContext! This warning can be ignored when running in bare mode.\n",
      "2025-03-16 09:39:09.915 Thread 'MainThread': missing ScriptRunContext! This warning can be ignored when running in bare mode.\n",
      "2025-03-16 09:39:09.916 Thread 'MainThread': missing ScriptRunContext! This warning can be ignored when running in bare mode.\n",
      "2025-03-16 09:39:09.917 Thread 'MainThread': missing ScriptRunContext! This warning can be ignored when running in bare mode.\n",
      "2025-03-16 09:39:09.918 Thread 'MainThread': missing ScriptRunContext! This warning can be ignored when running in bare mode.\n",
      "2025-03-16 09:39:09.919 Thread 'MainThread': missing ScriptRunContext! This warning can be ignored when running in bare mode.\n",
      "2025-03-16 09:39:09.931 Thread 'MainThread': missing ScriptRunContext! This warning can be ignored when running in bare mode.\n",
      "2025-03-16 09:39:09.949 Thread 'MainThread': missing ScriptRunContext! This warning can be ignored when running in bare mode.\n",
      "2025-03-16 09:39:09.952 Thread 'MainThread': missing ScriptRunContext! This warning can be ignored when running in bare mode.\n",
      "2025-03-16 09:39:09.955 Thread 'MainThread': missing ScriptRunContext! This warning can be ignored when running in bare mode.\n",
      "2025-03-16 09:39:09.958 Thread 'MainThread': missing ScriptRunContext! This warning can be ignored when running in bare mode.\n",
      "2025-03-16 09:39:09.964 Thread 'MainThread': missing ScriptRunContext! This warning can be ignored when running in bare mode.\n",
      "2025-03-16 09:39:09.968 Thread 'MainThread': missing ScriptRunContext! This warning can be ignored when running in bare mode.\n",
      "2025-03-16 09:39:09.969 Thread 'MainThread': missing ScriptRunContext! This warning can be ignored when running in bare mode.\n",
      "2025-03-16 09:39:09.969 Thread 'MainThread': missing ScriptRunContext! This warning can be ignored when running in bare mode.\n",
      "2025-03-16 09:39:09.974 Thread 'MainThread': missing ScriptRunContext! This warning can be ignored when running in bare mode.\n",
      "2025-03-16 09:39:09.975 Thread 'MainThread': missing ScriptRunContext! This warning can be ignored when running in bare mode.\n",
      "2025-03-16 09:39:09.977 Thread 'MainThread': missing ScriptRunContext! This warning can be ignored when running in bare mode.\n",
      "2025-03-16 09:39:09.978 Thread 'MainThread': missing ScriptRunContext! This warning can be ignored when running in bare mode.\n",
      "2025-03-16 09:39:09.979 Thread 'MainThread': missing ScriptRunContext! This warning can be ignored when running in bare mode.\n",
      "2025-03-16 09:39:09.980 Thread 'MainThread': missing ScriptRunContext! This warning can be ignored when running in bare mode.\n",
      "2025-03-16 09:39:09.983 Thread 'MainThread': missing ScriptRunContext! This warning can be ignored when running in bare mode.\n",
      "2025-03-16 09:39:09.983 Thread 'MainThread': missing ScriptRunContext! This warning can be ignored when running in bare mode.\n",
      "2025-03-16 09:39:09.985 Thread 'MainThread': missing ScriptRunContext! This warning can be ignored when running in bare mode.\n",
      "2025-03-16 09:39:09.987 Thread 'MainThread': missing ScriptRunContext! This warning can be ignored when running in bare mode.\n",
      "2025-03-16 09:39:09.987 Thread 'MainThread': missing ScriptRunContext! This warning can be ignored when running in bare mode.\n",
      "2025-03-16 09:39:09.989 Thread 'MainThread': missing ScriptRunContext! This warning can be ignored when running in bare mode.\n",
      "2025-03-16 09:39:09.989 Thread 'MainThread': missing ScriptRunContext! This warning can be ignored when running in bare mode.\n",
      "2025-03-16 09:39:09.991 Thread 'MainThread': missing ScriptRunContext! This warning can be ignored when running in bare mode.\n",
      "2025-03-16 09:39:09.991 Thread 'MainThread': missing ScriptRunContext! This warning can be ignored when running in bare mode.\n",
      "2025-03-16 09:39:09.993 Thread 'MainThread': missing ScriptRunContext! This warning can be ignored when running in bare mode.\n",
      "2025-03-16 09:39:09.993 Thread 'MainThread': missing ScriptRunContext! This warning can be ignored when running in bare mode.\n",
      "2025-03-16 09:39:09.995 Thread 'MainThread': missing ScriptRunContext! This warning can be ignored when running in bare mode.\n",
      "2025-03-16 09:39:09.995 Thread 'MainThread': missing ScriptRunContext! This warning can be ignored when running in bare mode.\n",
      "2025-03-16 09:39:09.997 Thread 'MainThread': missing ScriptRunContext! This warning can be ignored when running in bare mode.\n",
      "2025-03-16 09:39:09.997 Thread 'MainThread': missing ScriptRunContext! This warning can be ignored when running in bare mode.\n",
      "2025-03-16 09:39:10.003 Thread 'MainThread': missing ScriptRunContext! This warning can be ignored when running in bare mode.\n",
      "2025-03-16 09:39:10.005 Thread 'MainThread': missing ScriptRunContext! This warning can be ignored when running in bare mode.\n",
      "2025-03-16 09:39:10.005 Thread 'MainThread': missing ScriptRunContext! This warning can be ignored when running in bare mode.\n",
      "2025-03-16 09:39:10.005 Thread 'MainThread': missing ScriptRunContext! This warning can be ignored when running in bare mode.\n",
      "2025-03-16 09:39:10.005 Thread 'MainThread': missing ScriptRunContext! This warning can be ignored when running in bare mode.\n",
      "2025-03-16 09:39:10.005 Thread 'MainThread': missing ScriptRunContext! This warning can be ignored when running in bare mode.\n",
      "2025-03-16 09:39:10.005 Thread 'MainThread': missing ScriptRunContext! This warning can be ignored when running in bare mode.\n",
      "2025-03-16 09:39:10.005 Thread 'MainThread': missing ScriptRunContext! This warning can be ignored when running in bare mode.\n",
      "2025-03-16 09:39:10.026 Thread 'MainThread': missing ScriptRunContext! This warning can be ignored when running in bare mode.\n",
      "2025-03-16 09:39:10.027 Thread 'MainThread': missing ScriptRunContext! This warning can be ignored when running in bare mode.\n",
      "2025-03-16 09:39:10.028 Thread 'MainThread': missing ScriptRunContext! This warning can be ignored when running in bare mode.\n",
      "2025-03-16 09:39:10.030 Thread 'MainThread': missing ScriptRunContext! This warning can be ignored when running in bare mode.\n",
      "2025-03-16 09:39:10.031 Thread 'MainThread': missing ScriptRunContext! This warning can be ignored when running in bare mode.\n",
      "2025-03-16 09:39:10.034 Thread 'MainThread': missing ScriptRunContext! This warning can be ignored when running in bare mode.\n",
      "2025-03-16 09:39:10.035 Thread 'MainThread': missing ScriptRunContext! This warning can be ignored when running in bare mode.\n",
      "2025-03-16 09:39:10.037 Thread 'MainThread': missing ScriptRunContext! This warning can be ignored when running in bare mode.\n",
      "2025-03-16 09:39:10.038 Thread 'MainThread': missing ScriptRunContext! This warning can be ignored when running in bare mode.\n",
      "2025-03-16 09:39:10.040 Thread 'MainThread': missing ScriptRunContext! This warning can be ignored when running in bare mode.\n"
     ]
    }
   ],
   "source": [
    "# Define user input fields\n",
    "age = st.number_input(\"Age\", min_value=18, max_value=100, value=30)\n",
    "job = st.selectbox(\"Job\", [\"admin.\", \"blue-collar\", \"entrepreneur\", \"housemaid\", \"management\",\n",
    "                           \"retired\", \"self-employed\", \"services\", \"student\", \"technician\", \"unemployed\", \"unknown\"])\n",
    "marital = st.selectbox(\"Marital Status\", [\"married\", \"single\", \"divorced\"])\n",
    "education = st.selectbox(\"Education\", [\"primary\", \"secondary\", \"tertiary\", \"unknown\"])\n",
    "default = st.selectbox(\"Has Credit in Default?\", [\"yes\", \"no\"])\n",
    "balance = st.number_input(\"Balance\", min_value=-10000, max_value=100000, value=1000)\n",
    "housing = st.selectbox(\"Has Housing Loan?\", [\"yes\", \"no\"])\n",
    "loan = st.selectbox(\"Has Personal Loan?\", [\"yes\", \"no\"])\n",
    "contact = st.selectbox(\"Contact Type\", [\"cellular\", \"telephone\"])\n",
    "day = st.number_input(\"Last Contact Day\", min_value=1, max_value=31, value=15)\n",
    "month = st.selectbox(\"Last Contact Month\", [\"jan\", \"feb\", \"mar\", \"apr\", \"may\", \"jun\",\n",
    "                                            \"jul\", \"aug\", \"sep\", \"oct\", \"nov\", \"dec\"])\n",
    "duration = st.number_input(\"Last Contact Duration (seconds)\", min_value=0, value=180)\n",
    "campaign = st.number_input(\"Number of Contacts During Campaign\", min_value=1, value=2)\n",
    "pdays = st.number_input(\"Days Passed Since Last Contact (-1 if never contacted)\", min_value=-1, value=-1)\n",
    "previous = st.number_input(\"Number of Previous Contacts\", min_value=0, value=0)\n",
    "poutcome = st.selectbox(\"Previous Campaign Outcome\", [\"failure\", \"nonexistent\", \"success\"])\n",
    "\n",
    "# Additional Features\n",
    "emp_var_rate = st.number_input(\"Employment Variation Rate\", value=-1.8)\n",
    "cons_price_idx = st.number_input(\"Consumer Price Index\", value=92.893)\n",
    "cons_conf_idx = st.number_input(\"Consumer Confidence Index\", value=-46.2)\n",
    "euribor3m = st.number_input(\"Euribor 3-month Rate\", value=1.313)\n",
    "nr_employed = st.number_input(\"Number of Employees\", value=5099.1)\n",
    "day_of_week = st.selectbox(\"Day of the Week\", [\"mon\", \"tue\", \"wed\", \"thu\", \"fri\"])"
   ]
  },
  {
   "cell_type": "markdown",
   "id": "f1f6236b-fa55-47a4-8e53-3cb841f1e0aa",
   "metadata": {},
   "source": [
    "### 4. Send Input Data to FastAPI for Prediction"
   ]
  },
  {
   "cell_type": "code",
   "execution_count": 18,
   "id": "911e68f6-a52a-48be-ac07-6582c71b6436",
   "metadata": {},
   "outputs": [
    {
     "name": "stderr",
     "output_type": "stream",
     "text": [
      "2025-03-16 09:39:10.054 Thread 'MainThread': missing ScriptRunContext! This warning can be ignored when running in bare mode.\n",
      "2025-03-16 09:39:10.055 Thread 'MainThread': missing ScriptRunContext! This warning can be ignored when running in bare mode.\n",
      "2025-03-16 09:39:10.056 Thread 'MainThread': missing ScriptRunContext! This warning can be ignored when running in bare mode.\n",
      "2025-03-16 09:39:10.058 Thread 'MainThread': missing ScriptRunContext! This warning can be ignored when running in bare mode.\n",
      "2025-03-16 09:39:10.058 Thread 'MainThread': missing ScriptRunContext! This warning can be ignored when running in bare mode.\n"
     ]
    }
   ],
   "source": [
    "# Prepare input data\n",
    "input_data = {\n",
    "    \"age\": age,\n",
    "    \"job\": job,\n",
    "    \"marital\": marital,\n",
    "    \"education\": education,\n",
    "    \"default\": default,\n",
    "    \"balance\": balance,\n",
    "    \"housing\": housing,\n",
    "    \"loan\": loan,\n",
    "    \"contact\": contact,\n",
    "    \"day\": day,\n",
    "    \"month\": month,\n",
    "    \"duration\": duration,\n",
    "    \"campaign\": campaign,\n",
    "    \"pdays\": pdays,\n",
    "    \"previous\": previous,\n",
    "    \"poutcome\": poutcome,\n",
    "    \"emp_var_rate\": emp_var_rate,\n",
    "    \"cons_price_idx\": cons_price_idx,\n",
    "    \"cons_conf_idx\": cons_conf_idx,\n",
    "    \"euribor3m\": euribor3m,\n",
    "    \"nr_employed\": nr_employed,\n",
    "    \"day_of_week\": day_of_week\n",
    "}\n",
    "\n",
    "# API URL\n",
    "API_URL = \"http://127.0.0.1:8000/predict\"\n",
    "\n",
    "# Submit button\n",
    "if st.button(\"🔍 Predict\"):\n",
    "    try:\n",
    "        # Send request to FastAPI\n",
    "        response = requests.post(API_URL, json=input_data)\n",
    "        result = response.json()\n",
    "\n",
    "        # Display prediction\n",
    "        if \"error\" in result:\n",
    "            st.error(f\"❌ Error: {result['error']}\")\n",
    "        else:\n",
    "            st.success(f\"✅ Prediction: {result['prediction']}\")\n",
    "            st.write(f\"📊 Probability of No: {result['probability_no']:.4f}\")\n",
    "            st.write(f\"📊 Probability of Yes: {result['probability_yes']:.4f}\")\n",
    "\n",
    "    except Exception as e:\n",
    "        st.error(f\"❌ API Request Failed: {str(e)}\")\n"
   ]
  },
  {
   "cell_type": "markdown",
   "id": "a8836eb1-92d1-4182-a997-053ce030df75",
   "metadata": {},
   "source": [
    "### 5. Running the Streamlit UI"
   ]
  },
  {
   "cell_type": "code",
   "execution_count": 19,
   "id": "b865e5ac-4d23-4856-a010-ad773f61292c",
   "metadata": {},
   "outputs": [
    {
     "name": "stderr",
     "output_type": "stream",
     "text": [
      "[NbConvertApp] Converting notebook Gr-02_Notebook-3.ipynb to script\n",
      "[NbConvertApp] Writing 4243 bytes to Gr-02_Notebook-3.py\n"
     ]
    }
   ],
   "source": [
    "#!jupyter nbconvert --to script Gr-02_Notebook-3.ipynb"
   ]
  }
 ],
 "metadata": {
  "kernelspec": {
   "display_name": "Python 3 (ipykernel)",
   "language": "python",
   "name": "python3"
  },
  "language_info": {
   "codemirror_mode": {
    "name": "ipython",
    "version": 3
   },
   "file_extension": ".py",
   "mimetype": "text/x-python",
   "name": "python",
   "nbconvert_exporter": "python",
   "pygments_lexer": "ipython3",
   "version": "3.12.9"
  }
 },
 "nbformat": 4,
 "nbformat_minor": 5
}
