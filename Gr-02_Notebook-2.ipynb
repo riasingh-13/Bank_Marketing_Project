{
 "cells": [
  {
   "cell_type": "markdown",
   "id": "cdc40dfa-8240-4f6d-81bb-bebca5be1e9b",
   "metadata": {},
   "source": [
    "# Step 8: Model Deployment Using FastAPI\n",
    "\n",
    "### Objectives:\n",
    "- Load the best model from W&B.\n",
    "- Create a FastAPI-based RESTful API for serving predictions.\n",
    "- Accept input as JSON and return predictions in JSON format.\n",
    "- Deploy and test the API locally."
   ]
  },
  {
   "cell_type": "markdown",
   "id": "a55994e4-ae8e-4267-be2f-15017c118622",
   "metadata": {},
   "source": [
    "### 1. Install & Import Required Libraries"
   ]
  },
  {
   "cell_type": "code",
   "execution_count": 1,
   "id": "f4c69ea7-043d-411e-b63d-2e2c74e4cb68",
   "metadata": {},
   "outputs": [
    {
     "name": "stdout",
     "output_type": "stream",
     "text": [
      "Requirement already satisfied: fastapi in c:\\users\\pc\\venv\\lib\\site-packages (0.115.6)\n",
      "Requirement already satisfied: uvicorn in c:\\users\\pc\\venv\\lib\\site-packages (0.34.0)\n",
      "Requirement already satisfied: wandb in c:\\users\\pc\\venv\\lib\\site-packages (0.19.8)\n",
      "Requirement already satisfied: joblib in c:\\users\\pc\\venv\\lib\\site-packages (1.4.2)\n",
      "Requirement already satisfied: starlette<0.42.0,>=0.40.0 in c:\\users\\pc\\venv\\lib\\site-packages (from fastapi) (0.41.3)\n",
      "Requirement already satisfied: pydantic!=1.8,!=1.8.1,!=2.0.0,!=2.0.1,!=2.1.0,<3.0.0,>=1.7.4 in c:\\users\\pc\\venv\\lib\\site-packages (from fastapi) (2.10.5)\n",
      "Requirement already satisfied: typing-extensions>=4.8.0 in c:\\users\\pc\\venv\\lib\\site-packages (from fastapi) (4.12.2)\n",
      "Requirement already satisfied: click>=7.0 in c:\\users\\pc\\venv\\lib\\site-packages (from uvicorn) (8.1.8)\n",
      "Requirement already satisfied: h11>=0.8 in c:\\users\\pc\\venv\\lib\\site-packages (from uvicorn) (0.14.0)\n",
      "Requirement already satisfied: docker-pycreds>=0.4.0 in c:\\users\\pc\\venv\\lib\\site-packages (from wandb) (0.4.0)\n",
      "Requirement already satisfied: gitpython!=3.1.29,>=1.0.0 in c:\\users\\pc\\venv\\lib\\site-packages (from wandb) (3.1.44)\n",
      "Requirement already satisfied: platformdirs in c:\\users\\pc\\venv\\lib\\site-packages (from wandb) (4.3.6)\n",
      "Requirement already satisfied: protobuf!=4.21.0,!=5.28.0,<6,>=3.19.0 in c:\\users\\pc\\venv\\lib\\site-packages (from wandb) (5.29.3)\n",
      "Requirement already satisfied: psutil>=5.0.0 in c:\\users\\pc\\venv\\lib\\site-packages (from wandb) (6.1.1)\n",
      "Requirement already satisfied: pyyaml in c:\\users\\pc\\venv\\lib\\site-packages (from wandb) (6.0.2)\n",
      "Requirement already satisfied: requests<3,>=2.0.0 in c:\\users\\pc\\venv\\lib\\site-packages (from wandb) (2.32.3)\n",
      "Requirement already satisfied: sentry-sdk>=2.0.0 in c:\\users\\pc\\venv\\lib\\site-packages (from wandb) (2.22.0)\n",
      "Requirement already satisfied: setproctitle in c:\\users\\pc\\venv\\lib\\site-packages (from wandb) (1.3.5)\n",
      "Requirement already satisfied: setuptools in c:\\users\\pc\\venv\\lib\\site-packages (from wandb) (75.8.0)\n",
      "Requirement already satisfied: colorama in c:\\users\\pc\\venv\\lib\\site-packages (from click>=7.0->uvicorn) (0.4.6)\n",
      "Requirement already satisfied: six>=1.4.0 in c:\\users\\pc\\venv\\lib\\site-packages (from docker-pycreds>=0.4.0->wandb) (1.17.0)\n",
      "Requirement already satisfied: gitdb<5,>=4.0.1 in c:\\users\\pc\\venv\\lib\\site-packages (from gitpython!=3.1.29,>=1.0.0->wandb) (4.0.12)\n",
      "Requirement already satisfied: annotated-types>=0.6.0 in c:\\users\\pc\\venv\\lib\\site-packages (from pydantic!=1.8,!=1.8.1,!=2.0.0,!=2.0.1,!=2.1.0,<3.0.0,>=1.7.4->fastapi) (0.7.0)\n",
      "Requirement already satisfied: pydantic-core==2.27.2 in c:\\users\\pc\\venv\\lib\\site-packages (from pydantic!=1.8,!=1.8.1,!=2.0.0,!=2.0.1,!=2.1.0,<3.0.0,>=1.7.4->fastapi) (2.27.2)\n",
      "Requirement already satisfied: charset-normalizer<4,>=2 in c:\\users\\pc\\venv\\lib\\site-packages (from requests<3,>=2.0.0->wandb) (3.4.1)\n",
      "Requirement already satisfied: idna<4,>=2.5 in c:\\users\\pc\\venv\\lib\\site-packages (from requests<3,>=2.0.0->wandb) (3.10)\n",
      "Requirement already satisfied: urllib3<3,>=1.21.1 in c:\\users\\pc\\venv\\lib\\site-packages (from requests<3,>=2.0.0->wandb) (2.3.0)\n",
      "Requirement already satisfied: certifi>=2017.4.17 in c:\\users\\pc\\venv\\lib\\site-packages (from requests<3,>=2.0.0->wandb) (2024.12.14)\n",
      "Requirement already satisfied: anyio<5,>=3.4.0 in c:\\users\\pc\\venv\\lib\\site-packages (from starlette<0.42.0,>=0.40.0->fastapi) (4.8.0)\n",
      "Requirement already satisfied: sniffio>=1.1 in c:\\users\\pc\\venv\\lib\\site-packages (from anyio<5,>=3.4.0->starlette<0.42.0,>=0.40.0->fastapi) (1.3.1)\n",
      "Requirement already satisfied: smmap<6,>=3.0.1 in c:\\users\\pc\\venv\\lib\\site-packages (from gitdb<5,>=4.0.1->gitpython!=3.1.29,>=1.0.0->wandb) (5.0.2)\n"
     ]
    },
    {
     "name": "stderr",
     "output_type": "stream",
     "text": [
      "\n",
      "[notice] A new release of pip is available: 24.3.1 -> 25.0.1\n",
      "[notice] To update, run: python.exe -m pip install --upgrade pip\n"
     ]
    }
   ],
   "source": [
    "# Install FastAPI and Uvicorn\n",
    "!pip install fastapi uvicorn wandb joblib"
   ]
  },
  {
   "cell_type": "code",
   "execution_count": 9,
   "id": "cea86ce7-7204-4aaa-aef9-5a9474eb325e",
   "metadata": {},
   "outputs": [],
   "source": [
    "import wandb\n",
    "import joblib\n",
    "import json\n",
    "import uvicorn\n",
    "from fastapi import FastAPI\n",
    "from pydantic import BaseModel\n",
    "import pandas as pd"
   ]
  },
  {
   "cell_type": "markdown",
   "id": "c9f4ae95-3d08-4b78-827e-5df3127519f7",
   "metadata": {},
   "source": [
    "### 2. Load the Best Model from W&B"
   ]
  },
  {
   "cell_type": "code",
   "execution_count": 10,
   "id": "cb18daeb-145a-4e7c-92a7-abf5d027e8b6",
   "metadata": {},
   "outputs": [
    {
     "name": "stderr",
     "output_type": "stream",
     "text": [
      "wandb:   1 of 1 files downloaded.  \n"
     ]
    },
    {
     "name": "stdout",
     "output_type": "stream",
     "text": [
      "✅ Model loaded successfully from: C:\\Users\\PC\\Documents\\MLOps\\Bank_Marketing_Project\\artifacts\\best_model-v0/best_model.pkl\n"
     ]
    }
   ],
   "source": [
    "import wandb\n",
    "import joblib\n",
    "\n",
    "# Initialize W&B to load the best model\n",
    "wandb.init(project=\"Bank_Marketing_MLOps\", name=\"load-best-model\")\n",
    "\n",
    "# Correct way to load artifact\n",
    "artifact = wandb.use_artifact(\"best_model:latest\", type=\"model\")  # Use 'latest' alias\n",
    "artifact_dir = artifact.download()\n",
    "\n",
    "# Load the model\n",
    "model_path = f\"{artifact_dir}/best_model.pkl\"\n",
    "model = joblib.load(model_path)\n",
    "\n",
    "print(f\"✅ Model loaded successfully from: {model_path}\")"
   ]
  },
  {
   "cell_type": "markdown",
   "id": "71b37b3e-35c8-4ca3-ac7d-39511d9e1a23",
   "metadata": {},
   "source": [
    "### 3. Create a FastAPI Application"
   ]
  },
  {
   "cell_type": "code",
   "execution_count": 15,
   "id": "75c05240-98c7-4a59-85c8-10b59d5ab35f",
   "metadata": {},
   "outputs": [],
   "source": [
    "# Create FastAPI app\n",
    "app = FastAPI(title=\"Bank Marketing Prediction API\", version=\"1.0\")\n",
    "\n",
    "# Define request input schema with all required features\n",
    "class InputData(BaseModel):\n",
    "    age: int\n",
    "    job: str\n",
    "    marital: str\n",
    "    education: str\n",
    "    default: str\n",
    "    balance: float\n",
    "    housing: str\n",
    "    loan: str\n",
    "    contact: str\n",
    "    day: int\n",
    "    month: str\n",
    "    duration: int\n",
    "    campaign: int\n",
    "    pdays: int\n",
    "    previous: int\n",
    "    poutcome: str\n",
    "    emp_var_rate: float\n",
    "    cons_price_idx: float\n",
    "    cons_conf_idx: float\n",
    "    euribor3m: float\n",
    "    nr_employed: float\n",
    "    day_of_week: str\n",
    "\n",
    "# Define prediction endpoint\n",
    "@app.post(\"/predict\")\n",
    "def predict(data: InputData):\n",
    "    try:\n",
    "        # Convert input JSON to dictionary\n",
    "        input_dict = data.dict()\n",
    "\n",
    "        # Rename fields to match dataset column names\n",
    "        corrected_input = {\n",
    "            \"age\": input_dict[\"age\"],\n",
    "            \"job\": input_dict[\"job\"],\n",
    "            \"marital\": input_dict[\"marital\"],\n",
    "            \"education\": input_dict[\"education\"],\n",
    "            \"default\": input_dict[\"default\"],\n",
    "            \"balance\": input_dict[\"balance\"],\n",
    "            \"housing\": input_dict[\"housing\"],\n",
    "            \"loan\": input_dict[\"loan\"],\n",
    "            \"contact\": input_dict[\"contact\"],\n",
    "            \"day\": input_dict[\"day\"],\n",
    "            \"month\": input_dict[\"month\"],\n",
    "            \"duration\": input_dict[\"duration\"],\n",
    "            \"campaign\": input_dict[\"campaign\"],\n",
    "            \"pdays\": input_dict[\"pdays\"],\n",
    "            \"previous\": input_dict[\"previous\"],\n",
    "            \"poutcome\": input_dict[\"poutcome\"],\n",
    "            \"emp.var.rate\": input_dict[\"emp_var_rate\"],   # Convert name\n",
    "            \"cons.price.idx\": input_dict[\"cons_price_idx\"], # Convert name\n",
    "            \"cons.conf.idx\": input_dict[\"cons_conf_idx\"], # Convert name\n",
    "            \"euribor3m\": input_dict[\"euribor3m\"],\n",
    "            \"nr.employed\": input_dict[\"nr_employed\"],\n",
    "            \"day_of_week\": input_dict[\"day_of_week\"]\n",
    "        }\n",
    "\n",
    "        # Convert corrected input to DataFrame\n",
    "        input_df = pd.DataFrame([corrected_input])\n",
    "\n",
    "        # Make prediction with probability scores\n",
    "        probas = model.predict_proba(input_df)[0]  # Get probability of \"no\" and \"yes\"\n",
    "        prediction = model.predict(input_df)[0]\n",
    "        predicted_label = \"yes\" if prediction == 1 else \"no\"\n",
    "\n",
    "        return {\n",
    "            \"prediction\": predicted_label,\n",
    "            \"probability_no\": round(probas[0], 4),  # Probability for \"no\"\n",
    "            \"probability_yes\": round(probas[1], 4)  # Probability for \"yes\"\n",
    "        }\n",
    "\n",
    "    except Exception as e:\n",
    "        return {\"error\": str(e)}"
   ]
  },
  {
   "cell_type": "markdown",
   "id": "de4164e3-1c2e-453e-9a7a-e5aff03a459e",
   "metadata": {},
   "source": [
    "### 4. Running the FastAPI Server Locally"
   ]
  },
  {
   "cell_type": "code",
   "execution_count": null,
   "id": "a674185f-8264-41cc-8829-a807b672282a",
   "metadata": {},
   "outputs": [
    {
     "name": "stderr",
     "output_type": "stream",
     "text": [
      "INFO:     Started server process [16488]\n",
      "INFO:     Waiting for application startup.\n",
      "INFO:     Application startup complete.\n",
      "INFO:     Uvicorn running on http://0.0.0.0:8000 (Press CTRL+C to quit)\n",
      "C:\\Users\\PC\\AppData\\Local\\Temp\\ipykernel_16488\\3076177647.py:34: PydanticDeprecatedSince20: The `dict` method is deprecated; use `model_dump` instead. Deprecated in Pydantic V2.0 to be removed in V3.0. See Pydantic V2 Migration Guide at https://errors.pydantic.dev/2.10/migration/\n",
      "  input_dict = data.dict()\n"
     ]
    },
    {
     "name": "stdout",
     "output_type": "stream",
     "text": [
      "INFO:     127.0.0.1:61494 - \"POST /predict HTTP/1.1\" 200 OK\n"
     ]
    },
    {
     "name": "stderr",
     "output_type": "stream",
     "text": [
      "C:\\Users\\PC\\AppData\\Local\\Temp\\ipykernel_16488\\3076177647.py:34: PydanticDeprecatedSince20: The `dict` method is deprecated; use `model_dump` instead. Deprecated in Pydantic V2.0 to be removed in V3.0. See Pydantic V2 Migration Guide at https://errors.pydantic.dev/2.10/migration/\n",
      "  input_dict = data.dict()\n"
     ]
    },
    {
     "name": "stdout",
     "output_type": "stream",
     "text": [
      "INFO:     127.0.0.1:61517 - \"POST /predict HTTP/1.1\" 200 OK\n",
      "INFO:     127.0.0.1:61525 - \"GET /predict HTTP/1.1\" 405 Method Not Allowed\n",
      "INFO:     127.0.0.1:61528 - \"GET /docs HTTP/1.1\" 200 OK\n",
      "INFO:     127.0.0.1:61528 - \"GET /openapi.json HTTP/1.1\" 200 OK\n"
     ]
    }
   ],
   "source": [
    "import nest_asyncio\n",
    "\n",
    "# Apply nest_asyncio to allow running FastAPI inside Jupyter\n",
    "nest_asyncio.apply()\n",
    "\n",
    "# Run FastAPI within Jupyter Notebook\n",
    "uvicorn.run(app, host=\"0.0.0.0\", port=8000)"
   ]
  },
  {
   "cell_type": "code",
   "execution_count": null,
   "id": "132e0153-2b30-4414-997d-b1dd2f409631",
   "metadata": {},
   "outputs": [],
   "source": []
  }
 ],
 "metadata": {
  "kernelspec": {
   "display_name": "Python 3 (ipykernel)",
   "language": "python",
   "name": "python3"
  },
  "language_info": {
   "codemirror_mode": {
    "name": "ipython",
    "version": 3
   },
   "file_extension": ".py",
   "mimetype": "text/x-python",
   "name": "python",
   "nbconvert_exporter": "python",
   "pygments_lexer": "ipython3",
   "version": "3.12.9"
  }
 },
 "nbformat": 4,
 "nbformat_minor": 5
}
